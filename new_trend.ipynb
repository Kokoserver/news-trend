{
 "cells": [
  {
   "cell_type": "code",
   "execution_count": null,
   "metadata": {},
   "outputs": [],
   "source": [
    "%pip install --upgrade scikit-learn pandas tensorflow matplotlib\n"
   ]
  },
  {
   "cell_type": "code",
   "execution_count": null,
   "metadata": {},
   "outputs": [],
   "source": [
    "import pandas as pd\n",
    "from sklearn.model_selection import train_test_split\n",
    "from sklearn.feature_extraction.text import TfidfVectorizer\n",
    "import tensorflow as tf\n",
    "from tensorflow import keras\n",
    "from tensorflow.keras import layers"
   ]
  },
  {
   "cell_type": "code",
   "execution_count": 26,
   "metadata": {},
   "outputs": [],
   "source": [
    "data = pd.read_excel(\"PROJECT DATASET.xlsx\")  # Replace \"your_dataset.csv\" with the actual dataset file path\n"
   ]
  },
  {
   "cell_type": "code",
   "execution_count": 28,
   "metadata": {},
   "outputs": [],
   "source": [
    "X = data[\"title\"]\n",
    "y = data[\"retweet\"]  # Assuming \"Trend\" is the column indicating whether the article trended or not\n",
    "\n",
    "\n",
    "X_train, X_test, y_train, y_test = train_test_split(X, y, test_size=0.2, random_state=42)"
   ]
  },
  {
   "cell_type": "code",
   "execution_count": 29,
   "metadata": {},
   "outputs": [
    {
     "data": {
      "image/png": "[encoded data removed]",
      "text/plain": [
       "<Figure size 640x480 with 1 Axes>"
      ]
     },
     "metadata": {},
     "output_type": "display_data"
    }
   ],
   "source": [
    "import pandas as pd\n",
    "import matplotlib.pyplot as plt\n",
    "\n",
    "# Load the data\n",
    "df = pd.read_excel('PROJECT DATASET.xlsx')\n",
    "\n",
    "# Create a scatter plot of retweets versus likes\n",
    "plt.scatter(df['retweet'], df['like'])\n",
    "\n",
    "# Label the axes\n",
    "plt.xlabel('Retweets')\n",
    "plt.ylabel('Likes')\n",
    "\n",
    "# Display the plot\n",
    "plt.show()\n"
   ]
  },
  {
   "cell_type": "code",
   "execution_count": 30,
   "metadata": {},
   "outputs": [],
   "source": [
    "tfidf_vectorizer = TfidfVectorizer(max_features=1000)  # You can adjust the number of features as needed\n",
    "X_train_tfidf = tfidf_vectorizer.fit_transform(X_train)\n",
    "X_test_tfidf = tfidf_vectorizer.transform(X_test)\n",
    "X_train_tfidf_np = X_train_tfidf.toarray()\n",
    "X_test_tfidf_np = X_test_tfidf.toarray()\n"
   ]
  },
  {
   "cell_type": "code",
   "execution_count": 31,
   "metadata": {},
   "outputs": [
    {
     "data": {
      "text/html": [
       "<style>#sk-container-id-2 {color: black;}#sk-container-id-2 pre{padding: 0;}#sk-container-id-2 div.sk-toggleable {background-color: white;}#sk-container-id-2 label.sk-toggleable__label {cursor: pointer;display: block;width: 100%;margin-bottom: 0;padding: 0.3em;box-sizing: border-box;text-align: center;}#sk-container-id-2 label.sk-toggleable__label-arrow:before {content: \"▸\";float: left;margin-right: 0.25em;color: #696969;}#sk-container-id-2 label.sk-toggleable__label-arrow:hover:before {color: black;}#sk-container-id-2 div.sk-estimator:hover label.sk-toggleable__label-arrow:before {color: black;}#sk-container-id-2 div.sk-toggleable__content {max-height: 0;max-width: 0;overflow: hidden;text-align: left;background-color: #f0f8ff;}#sk-container-id-2 div.sk-toggleable__content pre {margin: 0.2em;color: black;border-radius: 0.25em;background-color: #f0f8ff;}#sk-container-id-2 input.sk-toggleable__control:checked~div.sk-toggleable__content {max-height: 200px;max-width: 100%;overflow: auto;}#sk-container-id-2 input.sk-toggleable__control:checked~label.sk-toggleable__label-arrow:before {content: \"▾\";}#sk-container-id-2 div.sk-estimator input.sk-toggleable__control:checked~label.sk-toggleable__label {background-color: #d4ebff;}#sk-container-id-2 div.sk-label input.sk-toggleable__control:checked~label.sk-toggleable__label {background-color: #d4ebff;}#sk-container-id-2 input.sk-hidden--visually {border: 0;clip: rect(1px 1px 1px 1px);clip: rect(1px, 1px, 1px, 1px);height: 1px;margin: -1px;overflow: hidden;padding: 0;position: absolute;width: 1px;}#sk-container-id-2 div.sk-estimator {font-family: monospace;background-color: #f0f8ff;border: 1px dotted black;border-radius: 0.25em;box-sizing: border-box;margin-bottom: 0.5em;}#sk-container-id-2 div.sk-estimator:hover {background-color: #d4ebff;}#sk-container-id-2 div.sk-parallel-item::after {content: \"\";width: 100%;border-bottom: 1px solid gray;flex-grow: 1;}#sk-container-id-2 div.sk-label:hover label.sk-toggleable__label {background-color: #d4ebff;}#sk-container-id-2 div.sk-serial::before {content: \"\";position: absolute;border-left: 1px solid gray;box-sizing: border-box;top: 0;bottom: 0;left: 50%;z-index: 0;}#sk-container-id-2 div.sk-serial {display: flex;flex-direction: column;align-items: center;background-color: white;padding-right: 0.2em;padding-left: 0.2em;position: relative;}#sk-container-id-2 div.sk-item {position: relative;z-index: 1;}#sk-container-id-2 div.sk-parallel {display: flex;align-items: stretch;justify-content: center;background-color: white;position: relative;}#sk-container-id-2 div.sk-item::before, #sk-container-id-2 div.sk-parallel-item::before {content: \"\";position: absolute;border-left: 1px solid gray;box-sizing: border-box;top: 0;bottom: 0;left: 50%;z-index: -1;}#sk-container-id-2 div.sk-parallel-item {display: flex;flex-direction: column;z-index: 1;position: relative;background-color: white;}#sk-container-id-2 div.sk-parallel-item:first-child::after {align-self: flex-end;width: 50%;}#sk-container-id-2 div.sk-parallel-item:last-child::after {align-self: flex-start;width: 50%;}#sk-container-id-2 div.sk-parallel-item:only-child::after {width: 0;}#sk-container-id-2 div.sk-dashed-wrapped {border: 1px dashed gray;margin: 0 0.4em 0.5em 0.4em;box-sizing: border-box;padding-bottom: 0.4em;background-color: white;}#sk-container-id-2 div.sk-label label {font-family: monospace;font-weight: bold;display: inline-block;line-height: 1.2em;}#sk-container-id-2 div.sk-label-container {text-align: center;}#sk-container-id-2 div.sk-container {/* jupyter's `normalize.less` sets `[hidden] { display: none; }` but bootstrap.min.css set `[hidden] { display: none !important; }` so we also need the `!important` here to be able to override the default hidden behavior on the sphinx rendered scikit-learn.org. See: https://github.com/scikit-learn/scikit-learn/issues/21755 */display: inline-block !important;position: relative;}#sk-container-id-2 div.sk-text-repr-fallback {display: none;}</style><div id=\"sk-container-id-2\" class=\"sk-top-container\"><div class=\"sk-text-repr-fallback\"><pre>TfidfVectorizer(max_features=1000)</pre><b>In a Jupyter environment, please rerun this cell to show the HTML representation or trust the notebook. <br />On GitHub, the HTML representation is unable to render, please try loading this page with nbviewer.org.</b></div><div class=\"sk-container\" hidden><div class=\"sk-item\"><div class=\"sk-estimator sk-toggleable\"><input class=\"sk-toggleable__control sk-hidden--visually\" id=\"sk-estimator-id-2\" type=\"checkbox\" checked><label for=\"sk-estimator-id-2\" class=\"sk-toggleable__label sk-toggleable__label-arrow\">TfidfVectorizer</label><div class=\"sk-toggleable__content\"><pre>TfidfVectorizer(max_features=1000)</pre></div></div></div></div></div>"
      ],
      "text/plain": [
       "TfidfVectorizer(max_features=1000)"
      ]
     },
     "execution_count": 31,
     "metadata": {},
     "output_type": "execute_result"
    }
   ],
   "source": [
    "tfidf_vectorizer"
   ]
  },
  {
   "cell_type": "code",
   "execution_count": 32,
   "metadata": {},
   "outputs": [],
   "source": [
    "model = keras.Sequential([\n",
    "    layers.Dense(128, activation='relu', input_shape=(X_train_tfidf.shape[1],)),\n",
    "    layers.Dropout(0.2),\n",
    "    layers.Dense(64, activation='relu'),\n",
    "    layers.Dropout(0.2),\n",
    "    layers.Dense(1, activation='sigmoid')  # Binary classification, so we use sigmoid activation\n",
    "])\n"
   ]
  },
  {
   "cell_type": "code",
   "execution_count": 33,
   "metadata": {},
   "outputs": [
    {
     "data": {
      "text/plain": [
       "<keras.src.engine.sequential.Sequential at 0x1c1cfb9cf90>"
      ]
     },
     "execution_count": 33,
     "metadata": {},
     "output_type": "execute_result"
    }
   ],
   "source": [
    "model.compile(optimizer='adam', loss='binary_crossentropy', metrics=['accuracy'])\n",
    "\n",
    "model\n"
   ]
  },
  {
   "cell_type": "code",
   "execution_count": 34,
   "metadata": {},
   "outputs": [
    {
     "name": "stdout",
     "output_type": "stream",
     "text": [
      "Epoch 1/30\n",
      "6/6 [==============================] - 1s 40ms/step - loss: 31.6235 - accuracy: 0.0000e+00 - val_loss: -58.7347 - val_accuracy: 0.0000e+00\n",
      "Epoch 2/30\n",
      "6/6 [==============================] - 0s 8ms/step - loss: -93.3670 - accuracy: 0.0000e+00 - val_loss: -169.1521 - val_accuracy: 0.0000e+00\n",
      "Epoch 3/30\n",
      "6/6 [==============================] - 0s 11ms/step - loss: -246.0114 - accuracy: 0.0000e+00 - val_loss: -291.9020 - val_accuracy: 0.0000e+00\n",
      "Epoch 4/30\n",
      "6/6 [==============================] - 0s 10ms/step - loss: -428.7094 - accuracy: 0.0000e+00 - val_loss: -442.6565 - val_accuracy: 0.0000e+00\n",
      "Epoch 5/30\n",
      "6/6 [==============================] - 0s 10ms/step - loss: -611.1556 - accuracy: 0.0000e+00 - val_loss: -633.4666 - val_accuracy: 0.0000e+00\n",
      "Epoch 6/30\n",
      "6/6 [==============================] - 0s 11ms/step - loss: -890.8868 - accuracy: 0.0000e+00 - val_loss: -879.8724 - val_accuracy: 0.0000e+00\n",
      "Epoch 7/30\n",
      "6/6 [==============================] - 0s 11ms/step - loss: -1254.9873 - accuracy: 0.0000e+00 - val_loss: -1197.0692 - val_accuracy: 0.0000e+00\n",
      "Epoch 8/30\n",
      "6/6 [==============================] - 0s 13ms/step - loss: -1665.9648 - accuracy: 0.0000e+00 - val_loss: -1618.8079 - val_accuracy: 0.0000e+00\n",
      "Epoch 9/30\n",
      "6/6 [==============================] - 0s 20ms/step - loss: -2247.5457 - accuracy: 0.0000e+00 - val_loss: -2168.0632 - val_accuracy: 0.0000e+00\n",
      "Epoch 10/30\n",
      "6/6 [==============================] - 0s 10ms/step - loss: -3136.1936 - accuracy: 0.0000e+00 - val_loss: -2895.1104 - val_accuracy: 0.0000e+00\n",
      "Epoch 11/30\n",
      "6/6 [==============================] - 0s 12ms/step - loss: -4250.7725 - accuracy: 0.0000e+00 - val_loss: -3828.9517 - val_accuracy: 0.0000e+00\n",
      "Epoch 12/30\n",
      "6/6 [==============================] - 0s 13ms/step - loss: -5826.5000 - accuracy: 0.0000e+00 - val_loss: -4944.9146 - val_accuracy: 0.0000e+00\n",
      "Epoch 13/30\n",
      "6/6 [==============================] - 0s 9ms/step - loss: -7628.7271 - accuracy: 0.0000e+00 - val_loss: -6407.2241 - val_accuracy: 0.0000e+00\n",
      "Epoch 14/30\n",
      "6/6 [==============================] - 0s 12ms/step - loss: -9401.7764 - accuracy: 0.0000e+00 - val_loss: -8177.7109 - val_accuracy: 0.0000e+00\n",
      "Epoch 15/30\n",
      "6/6 [==============================] - 0s 13ms/step - loss: -13012.8125 - accuracy: 0.0000e+00 - val_loss: -10304.1621 - val_accuracy: 0.0000e+00\n",
      "Epoch 16/30\n",
      "6/6 [==============================] - 0s 10ms/step - loss: -16033.2168 - accuracy: 0.0000e+00 - val_loss: -12922.0537 - val_accuracy: 0.0000e+00\n",
      "Epoch 17/30\n",
      "6/6 [==============================] - 0s 11ms/step - loss: -20631.4199 - accuracy: 0.0000e+00 - val_loss: -15933.9727 - val_accuracy: 0.0000e+00\n",
      "Epoch 18/30\n",
      "6/6 [==============================] - 0s 14ms/step - loss: -24989.0586 - accuracy: 0.0000e+00 - val_loss: -19470.3750 - val_accuracy: 0.0000e+00\n",
      "Epoch 19/30\n",
      "6/6 [==============================] - 0s 12ms/step - loss: -30571.6211 - accuracy: 0.0000e+00 - val_loss: -23574.1465 - val_accuracy: 0.0000e+00\n",
      "Epoch 20/30\n",
      "6/6 [==============================] - 0s 13ms/step - loss: -38909.9727 - accuracy: 0.0000e+00 - val_loss: -28405.6973 - val_accuracy: 0.0000e+00\n",
      "Epoch 21/30\n",
      "6/6 [==============================] - 0s 11ms/step - loss: -46171.0977 - accuracy: 0.0000e+00 - val_loss: -33719.6211 - val_accuracy: 0.0000e+00\n",
      "Epoch 22/30\n",
      "6/6 [==============================] - 0s 12ms/step - loss: -53418.3203 - accuracy: 0.0000e+00 - val_loss: -39936.6914 - val_accuracy: 0.0000e+00\n",
      "Epoch 23/30\n",
      "6/6 [==============================] - 0s 12ms/step - loss: -65072.6133 - accuracy: 0.0000e+00 - val_loss: -46766.6914 - val_accuracy: 0.0000e+00\n",
      "Epoch 24/30\n",
      "6/6 [==============================] - 0s 11ms/step - loss: -74537.1328 - accuracy: 0.0000e+00 - val_loss: -54173.8906 - val_accuracy: 0.0000e+00\n",
      "Epoch 25/30\n",
      "6/6 [==============================] - 0s 12ms/step - loss: -82170.9766 - accuracy: 0.0000e+00 - val_loss: -62145.8047 - val_accuracy: 0.0000e+00\n",
      "Epoch 26/30\n",
      "6/6 [==============================] - 0s 14ms/step - loss: -102029.9531 - accuracy: 0.0000e+00 - val_loss: -71167.3047 - val_accuracy: 0.0000e+00\n",
      "Epoch 27/30\n",
      "6/6 [==============================] - 0s 11ms/step - loss: -109590.8828 - accuracy: 0.0000e+00 - val_loss: -81264.3828 - val_accuracy: 0.0000e+00\n",
      "Epoch 28/30\n",
      "6/6 [==============================] - 0s 13ms/step - loss: -135694.7188 - accuracy: 0.0000e+00 - val_loss: -92167.6641 - val_accuracy: 0.0000e+00\n",
      "Epoch 29/30\n",
      "6/6 [==============================] - 0s 24ms/step - loss: -149023.0312 - accuracy: 0.0000e+00 - val_loss: -103955.4297 - val_accuracy: 0.0000e+00\n",
      "Epoch 30/30\n",
      "6/6 [==============================] - 0s 16ms/step - loss: -165484.7031 - accuracy: 0.0000e+00 - val_loss: -117621.9688 - val_accuracy: 0.0000e+00\n"
     ]
    }
   ],
   "source": [
    "# Then, you can use these NumPy arrays for training\n",
    "history = model.fit(X_train_tfidf_np, y_train, epochs=30, batch_size=10, validation_split=0.2, verbose=True)"
   ]
  },
  {
   "cell_type": "code",
   "execution_count": 35,
   "metadata": {},
   "outputs": [
    {
     "name": "stdout",
     "output_type": "stream",
     "text": [
      "1/1 [==============================] - 0s 36ms/step - loss: -175721.7188 - accuracy: 0.0000e+00\n",
      "Test Accuracy: 0.0\n"
     ]
    }
   ],
   "source": [
    "\n",
    "# Convert the sparse CSR matrix to a dense NumPy array\n",
    "X_test_tfidf_np = X_test_tfidf.toarray()\n",
    "\n",
    "# Now, you can evaluate the model\n",
    "test_loss, test_accuracy = model.evaluate(X_test_tfidf_np, y_test)\n",
    "print(\"Test Accuracy:\", test_accuracy)"
   ]
  },
  {
   "cell_type": "code",
   "execution_count": 40,
   "metadata": {},
   "outputs": [
    {
     "name": "stdout",
     "output_type": "stream",
     "text": [
      "1/1 [==============================] - 0s 25ms/step\n",
      "[[1.]\n",
      " [1.]]\n",
      "This article will trend\n",
      "This article will trend\n"
     ]
    }
   ],
   "source": [
    "new_titles = [\"hrlllo what's up today\", 'our present dies at the same time']\n",
    "new_titles_tfidf = tfidf_vectorizer.transform(new_titles)\n",
    "# Convert the sparse CSR matrix to a dense NumPy array\n",
    "new_titles_tfidf_np = new_titles_tfidf.toarray()\n",
    "\n",
    "# Reorder the sparse matrix\n",
    "new_titles_tfidf_sparse = tf.sparse.reorder(tf.sparse.from_dense(new_titles_tfidf_np))\n",
    "\n",
    "# Make predictions using the model\n",
    "predictions = model.predict(new_titles_tfidf_np)\n",
    "\n",
    "\n",
    "# Convert the prediction to a binary label (e.g., 1 for trending, 0 for not trending)\n",
    "print(predictions)\n",
    "for result in predictions:     \n",
    "        predicted_labels = (result > 0.5).astype(int)\n",
    "        print(\"This article will trend\" if  predicted_labels[0] > 0 else \"This article will not trend\")"
   ]
  }
 ],
 "metadata": {
  "kernelspec": {
   "display_name": "Python 3",
   "language": "python",
   "name": "python3"
  },
  "language_info": {
   "codemirror_mode": {
    "name": "ipython",
    "version": 3
   },
   "file_extension": ".py",
   "mimetype": "text/x-python",
   "name": "python",
   "nbconvert_exporter": "python",
   "pygments_lexer": "ipython3",
   "version": "3.11.4"
  },
  "orig_nbformat": 4
 },
 "nbformat": 4,
 "nbformat_minor": 2
}
